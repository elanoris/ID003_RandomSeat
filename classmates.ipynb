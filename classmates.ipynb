{
 "cells": [
  {
   "cell_type": "code",
   "execution_count": 232,
   "id": "bc0ae5e0",
   "metadata": {},
   "outputs": [],
   "source": [
    "import random\n",
    "import json\n",
    "import tkinter as tk\n",
    "from PIL import Image, ImageTk\n",
    "import urllib.request\n",
    "from io import BytesIO"
   ]
  },
  {
   "cell_type": "code",
   "execution_count": 152,
   "id": "f812e15e",
   "metadata": {},
   "outputs": [],
   "source": [
    "classmates=['Chris','Ingrid','Kenneth','Marian','Jeanette','Fredrik','Pål','Fehmmi','Glen-Roger','Alex','Mats','Amar','Sara']\n",
    "num_list=[]\n",
    "for i in range(13):\n",
    "    num_list.append(int(i+1))"
   ]
  },
  {
   "cell_type": "code",
   "execution_count": 192,
   "id": "ec1c67ba",
   "metadata": {},
   "outputs": [],
   "source": [
    "dict_class={}\n",
    "for name in classmates:\n",
    "    dict_class[name]=None"
   ]
  },
  {
   "cell_type": "code",
   "execution_count": 215,
   "id": "cfd472fc",
   "metadata": {},
   "outputs": [
    {
     "name": "stdout",
     "output_type": "stream",
     "text": [
      "dict_class={'Chris': 6, 'Ingrid': 3, 'Kenneth': 7, 'Marian': 1, 'Jeanette': 8, 'Fredrik': 2, 'Pål': 9, 'Fehmmi': 10, 'Glen-Roger': 12, 'Alex': 4, 'Mats': 5, 'Amar': 11, 'Sara': 13}\n",
      "[6, 3, 7, 1, 8, 2, 9, 10, 12, 4, 5, 11, 13]\n",
      "{'Chris': 6, 'Ingrid': 3, 'Kenneth': 7, 'Marian': 1, 'Jeanette': 8, 'Fredrik': 2, 'Pål': 9, 'Fehmmi': 10, 'Glen-Roger': 12, 'Alex': 4, 'Mats': 5, 'Amar': 11, 'Sara': 13}\n"
     ]
    }
   ],
   "source": [
    "i=0\n",
    "used=[]\n",
    "while True:\n",
    "    random_int=0\n",
    "    random_int=random.randint(1,13)\n",
    "    if i==13:\n",
    "        break\n",
    "    elif random_int not in used:\n",
    "        used.append(random_int)\n",
    "        i+=1\n",
    "    else:\n",
    "        continue\n",
    "    \n",
    "for i,name in zip(used,classmates):\n",
    "    dict_class[name]=i\n",
    "print(f'dict_class={dict_class}')\n",
    "print(used)\n",
    "print(dict_class)"
   ]
  },
  {
   "cell_type": "markdown",
   "id": "708b31cb",
   "metadata": {},
   "source": [
    "l=0\n",
    "for name in classmates:\n",
    "    for i in used:\n",
    "        if l==14:\n",
    "            print(f'We have reached the end')\n",
    "        if i in dict_class.values():\n",
    "            continue\n",
    "        else:\n",
    "            dict_class[name]=i"
   ]
  },
  {
   "cell_type": "code",
   "execution_count": 201,
   "id": "25bf667f",
   "metadata": {},
   "outputs": [
    {
     "name": "stdout",
     "output_type": "stream",
     "text": [
      "[1, 11, 12, 7, 8, 6, 4, 3, 10, 2, 9, 13, 5]\n",
      "{'Chris': 2, 'Ingrid': 6, 'Kenneth': 7, 'Marian': 5, 'Jeanette': 3, 'Fredrik': 8, 'Pål': 4, 'Fehmmi': 13, 'Glen-Roger': 12, 'Alex': 9, 'Mats': 11, 'Amar': 10, 'Sara': 1}\n"
     ]
    }
   ],
   "source": []
  },
  {
   "cell_type": "markdown",
   "id": "8c60ebde",
   "metadata": {},
   "source": [
    "i=0\n",
    "used=[]\n",
    "while True:\n",
    "    random_int=0\n",
    "    random_int=random.randint(1,13)\n",
    "    if i==13:\n",
    "        break\n",
    "    elif random_int not in used:\n",
    "        used.append(random_int)\n",
    "        i+=1\n",
    "    else:\n",
    "        continue\n",
    "\n",
    "############################################AFTER INITIALIZE#############\n",
    "l=0\n",
    "for name in classmates:\n",
    "    for i in used:\n",
    "        if l==14:\n",
    "            print(f'We have reached the end')\n",
    "        if i in dict_class[name]:\n",
    "            l+=1\n",
    "            continue\n",
    "        else:\n",
    "            dict_class[name].append(i)"
   ]
  },
  {
   "cell_type": "markdown",
   "id": "ce08e978",
   "metadata": {},
   "source": [
    "with open('convert.txt', 'w') as convert_file:\n",
    "   convert_file.write(json.dumps(dict_class))"
   ]
  },
  {
   "cell_type": "code",
   "execution_count": 244,
   "id": "9d734e39",
   "metadata": {},
   "outputs": [
    {
     "name": "stderr",
     "output_type": "stream",
     "text": [
      "C:\\Users\\jagan\\AppData\\Local\\Temp\\ipykernel_14824\\269458205.py:26: DeprecationWarning: ANTIALIAS is deprecated and will be removed in Pillow 10 (2023-07-01). Use Resampling.LANCZOS instead.\n",
      "  im = im.resize((350,250),Image.ANTIALIAS)\n"
     ]
    }
   ],
   "source": [
    "master= Tk()\n",
    "\n",
    "master.geometry(\"1750x1250\")\n",
    "def callback():\n",
    "    j=0\n",
    "    name_seat='SENSEI MASTER\\n\\n'\n",
    "    \n",
    "    for name,value in dict_class.items():\n",
    "            name_seat+=(f'{name} at {value}    ')\n",
    "            j+=1\n",
    "            if j==4 or j==8:\n",
    "                name_seat+='\\n \\n \\n'\n",
    "    Label(master, text=name_seat, font=('Century 30 bold')).pack(pady=1)\n",
    "\n",
    "btn=Button(master, text=\"Generate Seats\", command= callback)\n",
    "btn.pack(ipadx=10)\n",
    "master.bind('<Return>',lambda event:callback())\n",
    "\n",
    "                     \n",
    "URL = \"https://www.memecreator.org/static/images/memes/3778762.jpg\"\n",
    "u = urllib.request.urlopen(URL)\n",
    "raw_data = u.read()\n",
    "u.close()\n",
    "\n",
    "im = Image.open(BytesIO(raw_data))\n",
    "im = im.resize((350,250),Image.ANTIALIAS)\n",
    "photo = ImageTk.PhotoImage(im)\n",
    "\n",
    "button = tk.Button(image=photo,width=350,height=250,compound=\"c\")\n",
    "button.image = photo\n",
    "button.pack()\n",
    "\n",
    "\n",
    "master.mainloop()"
   ]
  },
  {
   "cell_type": "code",
   "execution_count": null,
   "id": "d50c5895",
   "metadata": {},
   "outputs": [],
   "source": []
  }
 ],
 "metadata": {
  "kernelspec": {
   "display_name": "Python 3 (ipykernel)",
   "language": "python",
   "name": "python3"
  },
  "language_info": {
   "codemirror_mode": {
    "name": "ipython",
    "version": 3
   },
   "file_extension": ".py",
   "mimetype": "text/x-python",
   "name": "python",
   "nbconvert_exporter": "python",
   "pygments_lexer": "ipython3",
   "version": "3.9.13"
  }
 },
 "nbformat": 4,
 "nbformat_minor": 5
}
