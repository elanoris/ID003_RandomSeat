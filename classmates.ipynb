{
 "cells": [
  {
   "cell_type": "code",
   "execution_count": 19,
   "id": "bc0ae5e0",
   "metadata": {},
   "outputs": [],
   "source": [
    "import random\n",
    "import json\n",
    "import tkinter as tk\n",
    "from PIL import Image, ImageTk\n",
    "import urllib.request\n",
    "from io import BytesIO"
   ]
  },
  {
   "cell_type": "code",
   "execution_count": 2,
   "id": "f812e15e",
   "metadata": {},
   "outputs": [],
   "source": [
    "classmates=['Chris','Ingrid','Kenneth','Marian','Jeanette','Fredrik','Pål','Fehmmi','Glen-Roger','Alex','Mats','Amar','Sara']\n",
    "num_list=[]\n",
    "for i in range(13):\n",
    "    num_list.append(int(i+1))"
   ]
  },
  {
   "cell_type": "code",
   "execution_count": 3,
   "id": "ec1c67ba",
   "metadata": {},
   "outputs": [],
   "source": [
    "dict_class={}\n",
    "for name in classmates:\n",
    "    dict_class[name]=None"
   ]
  },
  {
   "cell_type": "code",
   "execution_count": 7,
   "id": "cfd472fc",
   "metadata": {},
   "outputs": [
    {
     "name": "stdout",
     "output_type": "stream",
     "text": [
      "dict_class={'Chris': 2, 'Ingrid': 11, 'Kenneth': 12, 'Marian': 13, 'Jeanette': 4, 'Fredrik': 10, 'Pål': 3, 'Fehmmi': 1, 'Glen-Roger': 5, 'Alex': 7, 'Mats': 9, 'Amar': 6, 'Sara': 8}\n",
      "[2, 11, 12, 13, 4, 10, 3, 1, 5, 7, 9, 6, 8]\n",
      "{'Chris': 2, 'Ingrid': 11, 'Kenneth': 12, 'Marian': 13, 'Jeanette': 4, 'Fredrik': 10, 'Pål': 3, 'Fehmmi': 1, 'Glen-Roger': 5, 'Alex': 7, 'Mats': 9, 'Amar': 6, 'Sara': 8}\n"
     ]
    }
   ],
   "source": [
    "i=0\n",
    "used=[]\n",
    "while True:\n",
    "    random_int=0\n",
    "    random_int=random.randint(1,13)\n",
    "    if i==13:\n",
    "        break\n",
    "    elif random_int not in used:\n",
    "        used.append(random_int)\n",
    "        i+=1\n",
    "    else:\n",
    "        continue\n",
    "    \n",
    "for i,name in zip(used,classmates):\n",
    "    dict_class[name]=i\n",
    "print(f'dict_class={dict_class}')\n",
    "print(used)\n",
    "print(dict_class)"
   ]
  },
  {
   "cell_type": "markdown",
   "id": "708b31cb",
   "metadata": {},
   "source": [
    "l=0\n",
    "for name in classmates:\n",
    "    for i in used:\n",
    "        if l==14:\n",
    "            print(f'We have reached the end')\n",
    "        if i in dict_class.values():\n",
    "            continue\n",
    "        else:\n",
    "            dict_class[name]=i"
   ]
  },
  {
   "cell_type": "code",
   "execution_count": null,
   "id": "25bf667f",
   "metadata": {},
   "outputs": [],
   "source": []
  },
  {
   "cell_type": "markdown",
   "id": "8c60ebde",
   "metadata": {},
   "source": [
    "i=0\n",
    "used=[]\n",
    "while True:\n",
    "    random_int=0\n",
    "    random_int=random.randint(1,13)\n",
    "    if i==13:\n",
    "        break\n",
    "    elif random_int not in used:\n",
    "        used.append(random_int)\n",
    "        i+=1\n",
    "    else:\n",
    "        continue\n",
    "\n",
    "############################################AFTER INITIALIZE#############\n",
    "l=0\n",
    "for name in classmates:\n",
    "    for i in used:\n",
    "        if l==14:\n",
    "            print(f'We have reached the end')\n",
    "        if i in dict_class[name]:\n",
    "            l+=1\n",
    "            continue\n",
    "        else:\n",
    "            dict_class[name].append(i)"
   ]
  },
  {
   "cell_type": "markdown",
   "id": "ce08e978",
   "metadata": {},
   "source": [
    "with open('convert.txt', 'w') as convert_file:\n",
    "   convert_file.write(json.dumps(dict_class))"
   ]
  },
  {
   "cell_type": "code",
   "execution_count": 25,
   "id": "9d734e39",
   "metadata": {},
   "outputs": [],
   "source": [
    "master= tk.Tk()\n",
    "\n",
    "master.geometry(\"1450x1250\")\n",
    "def callback():\n",
    "    j=0\n",
    "    name_seat='SENSEI MASTER\\n\\n'\n",
    "    \n",
    "    for name,value in dict_class.items():\n",
    "            name_seat+=(f'{name} at {value}    ')\n",
    "            j+=1\n",
    "            if j==4 or j==8:\n",
    "                name_seat+='\\n \\n \\n'\n",
    "    tk.Label(master, text=name_seat, font=('Century 30 bold')).pack(pady=1)\n",
    "\n",
    "btn=tk.Button(master, text=\"Generate Seats\", command= callback)\n",
    "btn.pack(ipadx=10)\n",
    "master.bind('<Return>',lambda event:callback())\n",
    "\n",
    "                     \n",
    "URL = \"https://www.memecreator.org/static/images/memes/3778762.jpg\"\n",
    "u = urllib.request.urlopen(URL)\n",
    "raw_data = u.read()\n",
    "u.close()\n",
    "\n",
    "im = Image.open(BytesIO(raw_data))\n",
    "im = im.resize((350,250),Image.ANTIALIAS)\n",
    "photo = ImageTk.PhotoImage(im)\n",
    "\n",
    "button = tk.Button(image=photo,width=350,height=250,compound=\"c\")\n",
    "button.image = photo\n",
    "button.pack()\n",
    "\n",
    "\n",
    "master.mainloop()"
   ]
  },
  {
   "cell_type": "code",
   "execution_count": null,
   "id": "d50c5895",
   "metadata": {},
   "outputs": [],
   "source": []
  }
 ],
 "metadata": {
  "kernelspec": {
   "display_name": "Python 3 (ipykernel)",
   "language": "python",
   "name": "python3"
  },
  "language_info": {
   "codemirror_mode": {
    "name": "ipython",
    "version": 3
   },
   "file_extension": ".py",
   "mimetype": "text/x-python",
   "name": "python",
   "nbconvert_exporter": "python",
   "pygments_lexer": "ipython3",
   "version": "3.9.12"
  }
 },
 "nbformat": 4,
 "nbformat_minor": 5
}
